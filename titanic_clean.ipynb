{
 "cells": [
  {
   "cell_type": "code",
   "execution_count": null,
   "source": [
    "import pandas as pd\n",
    "from sklearn.model_selection import train_test_split\n",
    "from sklearn.neural_network import MLPClassifier\n",
    "from sklearn.metrics import classification_report,confusion_matrix\n",
    "import matplotlib.pyplot as plt\n",
    "import seaborn as sns\n",
    "import scipy\n",
    "import numpy as np\n",
    "sns.set()\n"
   ],
   "outputs": [],
   "metadata": {}
  },
  {
   "cell_type": "code",
   "execution_count": null,
   "source": [
    "df = pd.read_csv('train.csv')\n",
    "df_test = pd.read_csv('test.csv')\n",
    "print(df_test.columns)\n",
    "print(df_test)"
   ],
   "outputs": [],
   "metadata": {}
  },
  {
   "cell_type": "code",
   "execution_count": null,
   "source": [
    "df = df.drop(['PassengerId', 'Name', 'Ticket', 'Cabin'],axis=1)\n",
    "df_test_id = pd.DataFrame()\n",
    "df_test_id.index = df_test['PassengerId']\n",
    "df_test = df_test.drop(['PassengerId', 'Name', 'Ticket', 'Cabin'],axis=1)\n"
   ],
   "outputs": [],
   "metadata": {}
  },
  {
   "cell_type": "code",
   "execution_count": null,
   "source": [
    "print(df_test_id)"
   ],
   "outputs": [],
   "metadata": {}
  },
  {
   "cell_type": "code",
   "execution_count": null,
   "source": [
    "df['Sex'] = pd.factorize(df['Sex'])[0]\n",
    "df_test['Sex'] = pd.factorize(df_test['Sex'])[0]\n",
    "print(df)"
   ],
   "outputs": [],
   "metadata": {}
  },
  {
   "cell_type": "code",
   "execution_count": null,
   "source": [],
   "outputs": [],
   "metadata": {}
  },
  {
   "cell_type": "code",
   "execution_count": null,
   "source": [
    "pd.get_dummies(df, prefix=['Embarked'])\n"
   ],
   "outputs": [],
   "metadata": {}
  },
  {
   "cell_type": "code",
   "execution_count": null,
   "source": [
    "\n",
    "df['Pclass'] = df['Pclass'].apply(str)\n",
    "df = pd.get_dummies(df, prefix=['PClass','Embarked'])\n",
    "df_test['Pclass'] = df_test['Pclass'].apply(str)\n",
    "df_test = pd.get_dummies(df_test, prefix=['PClass','Embarked'])"
   ],
   "outputs": [],
   "metadata": {}
  },
  {
   "cell_type": "code",
   "execution_count": null,
   "source": [
    "\n",
    "df.boxplot(column =['Fare', 'Age'], grid = False)"
   ],
   "outputs": [],
   "metadata": {}
  },
  {
   "cell_type": "code",
   "execution_count": null,
   "source": [
    "df['z_score']=scipy.stats.zscore(df['Fare'])\n",
    "df.loc[df['z_score'].abs()>=3, 'Fare'] = df['Fare'].mean()\n",
    "df = df.drop(['z_score'], axis=1)\n"
   ],
   "outputs": [],
   "metadata": {}
  },
  {
   "cell_type": "code",
   "execution_count": null,
   "source": [
    "df.boxplot(column =['Fare', 'Age'], grid = False)"
   ],
   "outputs": [],
   "metadata": {}
  },
  {
   "cell_type": "code",
   "execution_count": null,
   "source": [
    "df.isnull().sum(axis = 0)\n",
    "df = df.fillna(df.mean())\n",
    "df.isnull().sum(axis = 0)"
   ],
   "outputs": [],
   "metadata": {}
  },
  {
   "cell_type": "code",
   "execution_count": null,
   "source": [
    "df_test.isnull().sum(axis = 0)\n",
    "df_test = df_test.fillna(df.mean())\n",
    "df_test.isnull().sum(axis = 0)"
   ],
   "outputs": [],
   "metadata": {}
  },
  {
   "cell_type": "code",
   "execution_count": null,
   "source": [
    "df['Age_id'] = 0\n",
    "df.loc[df['Age']<= 15,'Age_id'] = '~15'\n",
    "df.loc[(df['Age'] > 15) & (df['Age'] >= 25),'Age_id'] = '15~25'\n",
    "df.loc[(df['Age'] > 25) & (df['Age'] >= 35),'Age_id'] = '15~25'\n",
    "df.loc[(df['Age'] > 35) & (df['Age'] >= 45),'Age_id'] = '15~25'\n",
    "df.loc[(df['Age'] > 45) & (df['Age'] >= 55),'Age_id'] = '15~25'\n",
    "df.loc[df['Age'] > 55,'Age_id'] = '55~'\n",
    "print(df['Age_id'].head())"
   ],
   "outputs": [],
   "metadata": {}
  },
  {
   "cell_type": "code",
   "execution_count": null,
   "source": [
    "df['Age']=(df['Age']-df['Age'].mean())/df['Age'].std()\n",
    "df_test['Age']=(df_test['Age']-df_test['Age'].mean())/df_test['Age'].std()\n",
    "df['Fare']=(df['Fare']-df['Fare'].mean())/df['Fare'].std()\n",
    "df_test['Fare']=(df_test['Fare']-df_test['Fare'].mean())/df_test['Fare'].std()\n",
    "print(df)"
   ],
   "outputs": [],
   "metadata": {}
  },
  {
   "cell_type": "code",
   "execution_count": null,
   "source": [
    "df.plot.scatter(x = 'Age', y = 'Fare', s = 100);"
   ],
   "outputs": [],
   "metadata": {}
  },
  {
   "cell_type": "code",
   "execution_count": null,
   "source": [
    "df.plot(y= 'Age', kind = 'line', use_index=True)"
   ],
   "outputs": [],
   "metadata": {}
  },
  {
   "cell_type": "code",
   "execution_count": null,
   "source": [
    "def correlationmatrix(dataframe):\n",
    "    corrMatrix = dataframe.corr()\n",
    "    sns.heatmap(corrMatrix, annot=True)\n",
    "    plt.show()"
   ],
   "outputs": [],
   "metadata": {}
  },
  {
   "cell_type": "code",
   "execution_count": null,
   "source": [
    "correlationmatrix(df)"
   ],
   "outputs": [],
   "metadata": {}
  },
  {
   "cell_type": "code",
   "execution_count": null,
   "source": [
    "def barchart_percentage(feature):\n",
    "    survived_percentage = df[df['Survived'] ==1][feature].value_counts()/df[feature].value_counts()\n",
    "    dead_percentage = df[df['Survived'] ==0][feature].value_counts()/df[feature].value_counts()\n",
    "    df_analyse = pd.DataFrame([survived_percentage, dead_percentage])\n",
    "    df_analyse.index = ['Survived', 'Dead']\n",
    "    df_analyse.plot(kind='bar',stacked = False,figsize =(10,5))\n"
   ],
   "outputs": [],
   "metadata": {}
  },
  {
   "cell_type": "code",
   "execution_count": null,
   "source": [
    "barchart_percentage('Sex')"
   ],
   "outputs": [],
   "metadata": {}
  },
  {
   "cell_type": "code",
   "execution_count": null,
   "source": [
    "def barchart(feature):\n",
    "    survived = df[df['Survived'] ==1][feature].value_counts()\n",
    "    dead = df[df['Survived'] ==0][feature].value_counts()\n",
    "    df_analyse = pd.DataFrame([survived, dead])\n",
    "    df_analyse.index = ['Survived', 'Dead']\n",
    "    df_analyse.plot(kind='bar',stacked = False,figsize =(10,5))\n",
    "    \n",
    "    "
   ],
   "outputs": [],
   "metadata": {}
  },
  {
   "cell_type": "code",
   "execution_count": null,
   "source": [
    "barchart('Age_id')"
   ],
   "outputs": [],
   "metadata": {}
  },
  {
   "cell_type": "code",
   "execution_count": null,
   "source": [
    "target_column = 'Survived' \n",
    "predictors = list(set(list(df.columns))-set([target_column, 'Age_id']))\n",
    "\n",
    "print(target_column)\n",
    "print(predictors)\n",
    "predictors_test = list(set(list(df.columns))-set(['Age_id']))"
   ],
   "outputs": [],
   "metadata": {}
  },
  {
   "cell_type": "code",
   "execution_count": null,
   "source": [
    "X = df[predictors].values\n",
    "y = df[target_column].values\n",
    "X_train, X_test, y_train, y_test = train_test_split(X, y, test_size=0.30, random_state=40)\n",
    "print(X_train.shape); print(X_test.shape)"
   ],
   "outputs": [],
   "metadata": {}
  },
  {
   "cell_type": "code",
   "execution_count": null,
   "source": [
    "X_test_set =df_test[predictors].values"
   ],
   "outputs": [],
   "metadata": {}
  },
  {
   "cell_type": "code",
   "execution_count": null,
   "source": [
    "mlp = MLPClassifier(hidden_layer_sizes=(8,8), activation='relu', solver='adam', max_iter=500)\n",
    "mlp.fit(X_train,y_train)"
   ],
   "outputs": [],
   "metadata": {}
  },
  {
   "cell_type": "code",
   "execution_count": null,
   "source": [
    "\n",
    "predict_train = mlp.predict(X_train)\n",
    "predict_test = mlp.predict(X_test)\n",
    "predict_test_set = mlp.predict(X_test_set)\n",
    "df_test_id['Survived'] = 0\n",
    "df_test_id['Survived'] = predict_test_set\n",
    "df_test_id.to_csv('predictions.csv')\n",
    "print(df_test_id)"
   ],
   "outputs": [],
   "metadata": {}
  },
  {
   "cell_type": "code",
   "execution_count": null,
   "source": [
    "print(confusion_matrix(y_train,predict_train))\n",
    "print(classification_report(y_train,predict_train))"
   ],
   "outputs": [],
   "metadata": {}
  },
  {
   "cell_type": "code",
   "execution_count": null,
   "source": [
    "print(confusion_matrix(y_test,predict_test))\n",
    "print(classification_report(y_test,predict_test))"
   ],
   "outputs": [],
   "metadata": {}
  }
 ],
 "metadata": {
  "kernelspec": {
   "name": "python3",
   "display_name": "Python 3.8.12 64-bit ('Deeploy': conda)"
  },
  "language_info": {
   "codemirror_mode": {
    "name": "ipython",
    "version": 3
   },
   "file_extension": ".py",
   "mimetype": "text/x-python",
   "name": "python",
   "nbconvert_exporter": "python",
   "pygments_lexer": "ipython3",
   "version": "3.8.12"
  },
  "interpreter": {
   "hash": "b597b9043f4245aaee5e61ee3ff91e148170bb17b12f19c754773e09cfa57eae"
  }
 },
 "nbformat": 4,
 "nbformat_minor": 5
}